{
 "cells": [
  {
   "cell_type": "code",
   "execution_count": null,
   "metadata": {},
   "outputs": [],
   "source": [
    "# It is easier to process .docx files so for any .doc file, \n",
    "# we create a .docx for it and delete the .docx after we get the file contents.\n",
    "import os\n",
    "from docx2python import docx2python\n",
    "from docx2python.iterators import iter_paragraphs\n",
    "import pandas as pd\n",
    "from glob import glob\n",
    "import re\n",
    "import win32com.client as win32\n",
    "from win32com.client import constants\n",
    "\n",
    "# method gets a doc filename and creates a docx then returns the doc\n",
    "def change_to_docx(path,file):\n",
    "    filename = path+file\n",
    "    word = win32.gencache.EnsureDispatch('Word.Application')\n",
    "    doc = word.Documents.Open(filename)\n",
    "    doc.Activate()\n",
    "    new_file_abs = os.path.abspath(filename)\n",
    "    new_file_abs = re.sub(r'\\.\\w+$', '.docx', new_file_abs)\n",
    "    word.ActiveDocument.SaveAs(new_file_abs, FileFormat=constants.wdFormatXMLDocument)\n",
    "    doc.Close(False)\n",
    "    file = file+\"x\"\n",
    "    return file, True"
   ]
  },
  {
   "cell_type": "code",
   "execution_count": null,
   "metadata": {},
   "outputs": [],
   "source": [
    "path = r\"C:\\\\PATH\\\\TO\\\\FILES\\\\\"\n",
    "for file in os.listdir(path):\n",
    "    if !file.endswith(\".doc\") and !file.endswith(\".docx\"):\n",
    "        continue\n",
    "    \n",
    "    newFileCreated = False\n",
    "    \n",
    "    if file.endswith(\".doc\"):\n",
    "        file, newFileCreated = save_as_docx(path,file)\n",
    "    \n",
    "    filepath = path+file           \n",
    "    content = docx2python(filepath)           \n",
    "    lines = list(iter_paragraphs(content.document))\n",
    "    \n",
    "    # if a new docx file was created, you want to delete it after getting the contents out\n",
    "    if newFileCreated == True:\n",
    "        os.remove(file)\n",
    "    \n",
    "    '''\n",
    "    Do the file processing here\n",
    "    '''"
   ]
  }
 ],
 "metadata": {
  "kernelspec": {
   "display_name": "Python 3",
   "language": "python",
   "name": "python3"
  },
  "language_info": {
   "codemirror_mode": {
    "name": "ipython",
    "version": 3
   },
   "file_extension": ".py",
   "mimetype": "text/x-python",
   "name": "python",
   "nbconvert_exporter": "python",
   "pygments_lexer": "ipython3",
   "version": "3.8.3"
  }
 },
 "nbformat": 4,
 "nbformat_minor": 4
}
